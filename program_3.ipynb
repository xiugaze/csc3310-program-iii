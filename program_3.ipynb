{
 "cells": [
  {
   "cell_type": "markdown",
   "metadata": {},
   "source": [
    "# Program 3: Quick Select\n",
    "### Wesley Jochman, Cody Morrow, Caleb Andreano\n",
    "\n",
    "The selection problem takes a sequence of $n \\geq 2$ numbers and and integer $k$, $1 \\leq k \\leq n$ and returns the $k^{th}$ smallest element in the sequence. \n",
    "\n",
    "The problem is solved using a divide and conquer approach. For each iteration, a pivot value is chosen randomly from the target array. The array is then partitioned into three arrays based on the pivot:\n",
    "- The `left` array will contain all values strictly less than the pivot\n",
    "- The `same` array will contain all values equal to the pivot\n",
    "- The `right` array will contain all values strictly greater than the pivot. \n",
    "\n",
    "At this point, if $k$ is less than the length of the `left` array, we know that the $k^{th}$ smallest element must be in this array. In this case, we recurse using only the `left` array. \n",
    "\n",
    "If $k$ is equal to the length of the `left` array plus one, we know that the $k^{th}$ element is *not* in the left array. Since the `right` array contains every element that is strictly greater than the pivot, we now know that the $k^{th}$ smalles element is equal to the pivot. Therefore, we've found the target, so return the pivot. \n",
    "\n",
    "Otherwise, we know that the $k^{th}$ smalles element *must* be in the right array. We recurse on the right array, decementing $k$ by the length of the left arrayn as well as decementing $k$ by the number of values found that are identical to the pivots, or the length of the `same` array. \n",
    "\n",
    "In pseudocode, \n",
    "```\n",
    "function quick_select(A, k):\n",
    "    pivot = A[random(0, len(A))]\n",
    "\n",
    "    left, same, right = partition(A, pivot)\n",
    "\n",
    "    if k <= len(left):\n",
    "        return quick_select(left, k)\n",
    "    else if k == len(left) + 1:\n",
    "        return pivot\n",
    "    else:\n",
    "        return quick_select(right, k - len(left) - len(same))\n",
    "\n",
    "function partition(A, pivot):\n",
    "    left, same, right = [], [], []\n",
    "    for n in A:\n",
    "        if n < pivot:\n",
    "            left += n\n",
    "        else if n < pivot:\n",
    "            right += n\n",
    "        else \n",
    "            same += n\n",
    "    \n",
    "    return (left, same, right)\n",
    "```"
   ]
  },
  {
   "cell_type": "markdown",
   "metadata": {},
   "source": [
    "## Time complexity\n",
    "Examining the algorithm, split the process into:\n",
    "1. $D(n)$, the time complexity of the *divide* step,\n",
    "2. $aT(\\frac{n}{b})$ for constants $a, b \\in \\mathbb{R}^+$, or the time complexity of the *conquer* step, and\n",
    "3. $C(n)$, the time complexity of the *combine* step. \n",
    "\n",
    "The *divide* step is implemented through the `partition` subroutine. It's trivial to see that $D(n)\\in O(n)$, as the function iterates once through a single array. Performing exact analysis, we obtain:\n",
    "$$\n",
    "\\begin{align}\n",
    "D(n) &= 3+n(1 + \\hat{b} + (1-\\hat{b})(1+\\hat{c} + (1-\\hat{c}))) \\\\\n",
    "&= 2 + 3n - \\hat{b}n\n",
    "\\end{align}\n",
    "$$\n",
    "where \n",
    "$$\n",
    "\\hat{b} = \\begin{cases} \n",
    "1 & \\text{ num } < \\text{ pivot } \\\\\n",
    "0 & \\text{ otherwise }\n",
    "\\end{cases}\n",
    "$$\n",
    "and \n",
    "$$\n",
    "\\hat{c} = \\begin{cases}\n",
    "1 & \\text{ num } > \\text{ pivot } \\\\\n",
    "0 & \\text{ otherwise }\n",
    "\\end{cases}\n",
    "$$\n",
    "\n",
    "For this particular problem, we have the following assumption: \"You may assume that the random pivot divides the elements in half each time\". Therefore, we express the recurrence portion as $(a)T(\\frac{n}{2})$, with $a=1$ as only one subproblem is computed out of the two partitions. \n",
    "\n",
    "Finally, performing exact analysis given $D(n)3+n(1 + \\hat{b} + (1-\\hat{b})(1+\\hat{c}))$ and $aT\\left( \\frac{n}{b} \\right) = T(\\frac{n}{2})$, we find the following for our final algorithm:\n",
    "$$\n",
    "\\begin{align} \n",
    "T(n) &= 1 + \\hat{d} + (1-\\hat{d})(1+\\hat{e}) + 2 +3 + n(2 + \\hat{c} - \\hat{b}\\hat{c}) + T\\left( \\frac{n}{2} \\right) \\\\\n",
    "\\end{align}\n",
    "$$\n",
    "where \n",
    "$$\n",
    "\\hat{d} = \\begin{cases}\n",
    "1 & \\text{n }  = 1 \\\\\n",
    "0 & \\text{ otherwise }\n",
    "\\end{cases}\n",
    "$$\n",
    "and \n",
    "$$\n",
    "\\hat{e} = \\begin{cases}\n",
    "0 & 1 \\leq \\text{ k } \\leq n \\\\\n",
    "1 & \\text{otherwise}\n",
    "\\end{cases}\n",
    "$$\n",
    "\n",
    "Simplifying for worst possible cases, i.e. $\\hat{b}=0$, $\\hat{d} = 0$, and $\\hat{e} = 1$, we find:\n",
    "$$\n",
    "T(n) \\leq T\\left(\\frac{n}{2}\\right)+3n+8\n",
    "$$\n",
    "## Closed Form\n",
    "For $T(n)$, \n",
    "- $a=1$\n",
    "- $b=2$\n",
    "- $f(n) = 3n+8$\n",
    "- $n^{\\log _{b} a} = n^0 = 1$\n",
    "\n",
    "Choose $\\epsilon=1$, and assume: \n",
    "$$\n",
    "3n+8 \\in \\Omega(n^{0+1}) \\to f(n) \\in \\Omega(n)\n",
    "$$\n",
    "It follows that\n",
    "$$\n",
    "cn \\le 3n+8\n",
    "$$\n",
    "Set $c=1$:\n",
    "$$\n",
    "\\begin{align}\n",
    "n &\\le 3n+8 \\\\\n",
    "1 &\\le 3 + \\frac{8}{n} \\\\\n",
    "\\lim_{ n \\to \\infty }& \\left( 1 \\le 3 + \\frac{8}{n} \\right) = 1 \\le 3\n",
    "\\end{align}\n",
    "$$\n",
    "This is true for sufficiently large $n$ (really all $n$).  \n",
    "\n",
    "Next, choose $\\delta = \\frac{2}{3}$. \n",
    "$$\n",
    "\\begin{align}\n",
    "af\\left( \\frac{n}{b} \\right) = \\frac{3}{2}n+8 &\\leq  \\delta (3n+8) \\leq 2n + \\frac{16}{3} \\\\\n",
    "3n+16 &\\leq 4n + \\frac{32}{3} \\\\\n",
    "3 + \\frac{16}{n} &\\leq 4+\\frac{32}{3n} \\\\\n",
    "\\lim_{ n \\to \\infty } &= 3 \\leq 4\n",
    "\\end{align}\n",
    "$$\n",
    "This is true for sufficiently large $n$. \n",
    "\n",
    "So, there exists $\\epsilon > 0$ and $\\delta <1$ such that $f(n)\\in \\Omega(n^{\\log_{b} a+\\epsilon})$ and $af(\\frac{n}{b}) \\leq \\delta f(n)$ for sufficiently large $n$.  Therefore, $T(n)\\in \\Theta(f(n))$, so $T(n) \\in \\Theta(n)$.\n",
    "\n",
    "\n"
   ]
  },
  {
   "cell_type": "markdown",
   "metadata": {},
   "source": [
    "## Correctness\n",
    "Our algorithm is correct for the solution to this problem because it will split the list to have less values than it would otherwise have. This fits the criteria to have a split find algorithm that will find the target value while seperating the given array till the last value to be checked is the proper element.\n",
    "Our solution achieves this by taking the first index of the list and checking if each following index is larger or smaller that then current index. when the value is smaller it goes in one list, but if it's bigger it goes to a different list. This achieves the split find because it will find if the smaller value list contains the target index and then it uses which ever list will hold the value. This solution follows the algorithm needed which means that we follow what is wanted so our solution is correct."
   ]
  },
  {
   "cell_type": "markdown",
   "metadata": {},
   "source": [
    "## Tests"
   ]
  },
  {
   "cell_type": "code",
   "execution_count": 1,
   "metadata": {},
   "outputs": [
    {
     "name": "stdout",
     "output_type": "stream",
     "text": [
      "Single element test passed.\n",
      "Multiple elements test passed.\n",
      "Negative numbers test passed.\n",
      "Random elements test passed.\n",
      "Homogeneous test passed.\n",
      "All tests passed.\n"
     ]
    }
   ],
   "source": [
    "import random\n",
    "from quick_select import quick_select\n",
    "\n",
    "\n",
    "def test_quick_select_single_element():\n",
    "    array = [5]\n",
    "    k = 1\n",
    "    assert quick_select(array, k) == 5\n",
    "    print(\"Single element test passed.\")\n",
    "\n",
    "\n",
    "def test_quick_select_multiple_elements():\n",
    "    array = [9, 3, 7, 1, 5]\n",
    "    k = 3\n",
    "    assert quick_select(array, k) == 5\n",
    "    print(\"Multiple elements test passed.\")\n",
    "\n",
    "\n",
    "def test_quick_select_negative_numbers():\n",
    "    array = [-5, -3, -7, -1, -9]\n",
    "    k = 2\n",
    "    assert quick_select(array, k) == -7\n",
    "    print(\"Negative numbers test passed.\")\n",
    "\n",
    "\n",
    "def test_quick_select_random_elements():\n",
    "    array = random.sample(range(1, 101), 10)\n",
    "    k = 7\n",
    "    assert quick_select(array, k) == sorted(array)[k - 1]\n",
    "    print(\"Random elements test passed.\")\n",
    "\n",
    "def test_homogeneous():\n",
    "    array = [10, 10, 10, 10, 10, 10, 10, 10]\n",
    "    k = 1\n",
    "    assert quick_select(array, k) == sorted(array)[k - 1]\n",
    "    print(\"Homogeneous test passed.\")\n",
    "\n",
    "def main():\n",
    "    test_quick_select_single_element()\n",
    "    test_quick_select_multiple_elements()\n",
    "    test_quick_select_negative_numbers()\n",
    "    test_quick_select_random_elements()\n",
    "    test_homogeneous()\n",
    "    print(\"All tests passed.\")\n",
    "\n",
    "if __name__ == \"__main__\":\n",
    "    main()"
   ]
  },
  {
   "cell_type": "markdown",
   "metadata": {},
   "source": [
    "## Benchmarking"
   ]
  },
  {
   "cell_type": "code",
   "execution_count": 2,
   "metadata": {},
   "outputs": [
    {
     "name": "stdout",
     "output_type": "stream",
     "text": [
      "Requirement already satisfied: numpy in c:\\users\\wjoch\\appdata\\local\\programs\\python\\python312\\lib\\site-packages (1.26.4)\n",
      "Note: you may need to restart the kernel to use updated packages.\n"
     ]
    },
    {
     "name": "stderr",
     "output_type": "stream",
     "text": [
      "\n",
      "[notice] A new release of pip is available: 23.3.1 -> 24.0\n",
      "[notice] To update, run: python.exe -m pip install --upgrade pip\n"
     ]
    },
    {
     "name": "stdout",
     "output_type": "stream",
     "text": [
      "Note: you may need to restart the kernel to use updated packages.Requirement already satisfied: matplotlib in c:\\users\\wjoch\\appdata\\local\\programs\\python\\python312\\lib\\site-packages (3.8.3)\n",
      "Requirement already satisfied: contourpy>=1.0.1 in c:\\users\\wjoch\\appdata\\local\\programs\\python\\python312\\lib\\site-packages (from matplotlib) (1.2.0)\n",
      "Requirement already satisfied: cycler>=0.10 in c:\\users\\wjoch\\appdata\\local\\programs\\python\\python312\\lib\\site-packages (from matplotlib) (0.12.1)\n",
      "Requirement already satisfied: fonttools>=4.22.0 in c:\\users\\wjoch\\appdata\\local\\programs\\python\\python312\\lib\\site-packages (from matplotlib) (4.49.0)\n",
      "Requirement already satisfied: kiwisolver>=1.3.1 in c:\\users\\wjoch\\appdata\\local\\programs\\python\\python312\\lib\\site-packages (from matplotlib) (1.4.5)\n",
      "Requirement already satisfied: numpy<2,>=1.21 in c:\\users\\wjoch\\appdata\\local\\programs\\python\\python312\\lib\\site-packages (from matplotlib) (1.26.4)\n",
      "Requirement already satisfied: packaging>=20.0 in c:\\users\\wjoch\\appdata\\local\\programs\\python\\python312\\lib\\site-packages (from matplotlib) (23.2)\n",
      "Requirement already satisfied: pillow>=8 in c:\\users\\wjoch\\appdata\\local\\programs\\python\\python312\\lib\\site-packages (from matplotlib) (10.2.0)\n",
      "Requirement already satisfied: pyparsing>=2.3.1 in c:\\users\\wjoch\\appdata\\local\\programs\\python\\python312\\lib\\site-packages (from matplotlib) (3.1.1)\n",
      "Requirement already satisfied: python-dateutil>=2.7 in c:\\users\\wjoch\\appdata\\local\\programs\\python\\python312\\lib\\site-packages (from matplotlib) (2.8.2)\n",
      "Requirement already satisfied: six>=1.5 in c:\\users\\wjoch\\appdata\\local\\programs\\python\\python312\\lib\\site-packages (from python-dateutil>=2.7->matplotlib) (1.16.0)\n",
      "\n"
     ]
    },
    {
     "name": "stderr",
     "output_type": "stream",
     "text": [
      "\n",
      "[notice] A new release of pip is available: 23.3.1 -> 24.0\n",
      "[notice] To update, run: python.exe -m pip install --upgrade pip\n"
     ]
    },
    {
     "name": "stdout",
     "output_type": "stream",
     "text": [
      "Requirement already satisfied: scipy in c:\\users\\wjoch\\appdata\\local\\programs\\python\\python312\\lib\\site-packages (1.12.0)\n",
      "Requirement already satisfied: numpy<1.29.0,>=1.22.4 in c:\\users\\wjoch\\appdata\\local\\programs\\python\\python312\\lib\\site-packages (from scipy) (1.26.4)\n",
      "Note: you may need to restart the kernel to use updated packages.\n"
     ]
    },
    {
     "name": "stderr",
     "output_type": "stream",
     "text": [
      "\n",
      "[notice] A new release of pip is available: 23.3.1 -> 24.0\n",
      "[notice] To update, run: python.exe -m pip install --upgrade pip\n"
     ]
    }
   ],
   "source": [
    "%pip install numpy\n",
    "%pip install matplotlib\n",
    "%pip install scipy"
   ]
  },
  {
   "cell_type": "code",
   "execution_count": 38,
   "metadata": {},
   "outputs": [],
   "source": [
    "from enum import Enum\n",
    "from random import randint\n",
    "import matplotlib.pyplot as plt\n",
    "import numpy as np\n",
    "from scipy.stats import linregress\n",
    "import time\n",
    "class Ordering(Enum):\n",
    "    Unsorted = 1\n",
    "    Sorted = 2\n",
    "    RevSorted = 3\n",
    "\n",
    "def benchmark(algorithm, input_list, k):\n",
    "    start_time = time.perf_counter()\n",
    "    algorithm(input_list, k)\n",
    "    end_time = time.perf_counter()\n",
    "    elapsed = end_time - start_time\n",
    "    return elapsed\n",
    "\n",
    "def benchmark_sorting(algorithm, input_list, k):\n",
    "    start_time = time.perf_counter()\n",
    "    algorithm(input_list)[k - 1]\n",
    "    end_time = time.perf_counter()\n",
    "    elapsed = end_time - start_time\n",
    "    return elapsed\n",
    "\n",
    "def generate_list(ordering, length):\n",
    "    l = [None] * length\n",
    "    match ordering:\n",
    "        case Ordering.Unsorted:\n",
    "            l = [random.choice(range(length*10)) for _ in range(length)]\n",
    "        case Ordering.Sorted:\n",
    "            l = sorted([random.choice(range(length*10)) for _ in range(length)])\n",
    "        case Ordering.RevSorted:\n",
    "            l= sorted([random.choice(range(length*10)) for _ in range(length)], reverse=True)\n",
    "    return l\n",
    "\n",
    "def generate_k(list_length):\n",
    "    return randint(1, list_length - 1)\n",
    "\n",
    "list_sizes = [5, 10, 15, 20, 25, 30, 35, 40, 45, 50, 55, 60, 65, 70, 75, 80, 85, 90, 95, 100]"
   ]
  },
  {
   "cell_type": "code",
   "execution_count": 39,
   "metadata": {},
   "outputs": [
    {
     "name": "stdout",
     "output_type": "stream",
     "text": [
      "| List | k |\n",
      "| [16, 11, 30, 47, 30] | 2 |\n",
      "| [91, 90, 55, 63, 94, 9, 17, 84, 92, 36] | 5 |\n",
      "| [18, 52, 53, 108, 2, 28, 84, 84, 50, 88, 22, 116, 71, 59, 100] | 13 |\n",
      "| [32, 168, 41, 55, 70, 101, 83, 1, 147, 187, 183, 48, 155, 13, 155, 105, 49, 0, 51, 36] | 9 |\n",
      "| [219, 248, 11, 201, 184, 240, 223, 137, 174, 126, 220, 3, 20, 32, 32, 14, 134, 15, 37, 141, 230, 32, 215, 222, 114] | 22 |\n",
      "| [84, 219, 60, 231, 20, 223, 233, 116, 62, 211, 61, 252, 283, 119, 18, 57, 272, 22, 197, 176, 135, 222, 17, 193, 132, 198, 294, 175, 6, 89] | 10 |\n",
      "| [85, 251, 233, 193, 178, 305, 207, 213, 81, 7, 6, 189, 300, 79, 286, 143, 140, 99, 47, 26, 97, 221, 333, 54, 249, 208, 17, 198, 225, 73, 265, 328, 265, 163, 219] | 16 |\n",
      "| [106, 226, 91, 25, 326, 234, 235, 274, 266, 355, 230, 266, 292, 5, 364, 213, 278, 213, 378, 68, 124, 41, 349, 318, 375, 149, 235, 342, 15, 145, 48, 78, 349, 277, 63, 374, 306, 115, 372, 240] | 38 |\n",
      "| [358, 16, 132, 326, 392, 127, 390, 335, 350, 124, 241, 292, 89, 21, 58, 59, 110, 274, 104, 224, 8, 324, 332, 175, 11, 275, 362, 375, 289, 34, 298, 196, 298, 309, 163, 383, 350, 65, 391, 219, 302, 65, 256, 368, 55] | 13 |\n",
      "| [308, 218, 294, 279, 154, 284, 4, 392, 410, 163, 193, 68, 280, 100, 495, 29, 127, 253, 181, 464, 114, 423, 78, 440, 216, 174, 149, 296, 189, 416, 304, 294, 282, 7, 252, 287, 455, 133, 281, 269, 395, 467, 443, 7, 73, 392, 289, 216, 238, 320] | 37 |\n",
      "| [419, 419, 345, 264, 514, 293, 53, 456, 516, 392, 67, 374, 252, 327, 259, 14, 62, 382, 427, 524, 265, 208, 459, 268, 206, 176, 499, 421, 408, 203, 49, 245, 545, 544, 97, 4, 223, 256, 400, 73, 372, 191, 98, 54, 428, 250, 457, 266, 233, 188, 175, 186, 210, 480, 384] | 44 |\n",
      "| [333, 78, 572, 35, 340, 388, 49, 160, 334, 495, 289, 514, 171, 315, 341, 212, 566, 398, 51, 379, 358, 268, 385, 292, 241, 544, 224, 182, 521, 473, 563, 400, 121, 19, 378, 127, 457, 148, 149, 374, 364, 339, 436, 72, 444, 521, 494, 170, 307, 355, 402, 463, 243, 459, 140, 218, 124, 42, 426, 141] | 46 |\n",
      "| [101, 345, 103, 338, 446, 555, 95, 126, 388, 420, 238, 80, 429, 263, 547, 634, 536, 56, 216, 606, 447, 145, 410, 15, 36, 605, 67, 354, 54, 522, 630, 494, 569, 61, 117, 400, 229, 328, 460, 81, 598, 63, 233, 389, 236, 606, 386, 357, 189, 234, 603, 18, 138, 113, 369, 561, 556, 150, 239, 535, 88, 407, 580, 67, 174] | 6 |\n",
      "| [680, 244, 247, 439, 303, 642, 46, 456, 170, 525, 537, 34, 402, 209, 587, 213, 267, 42, 408, 556, 531, 553, 644, 385, 407, 461, 685, 115, 68, 94, 103, 296, 268, 164, 403, 19, 470, 661, 691, 480, 158, 677, 461, 332, 687, 238, 490, 409, 210, 95, 407, 505, 455, 25, 197, 581, 296, 366, 23, 224, 498, 40, 377, 416, 652, 75, 249, 64, 497, 336] | 51 |\n",
      "| [301, 666, 133, 745, 29, 542, 281, 602, 419, 357, 351, 552, 359, 516, 510, 661, 381, 715, 628, 640, 551, 459, 162, 139, 641, 447, 442, 326, 347, 98, 286, 599, 249, 667, 478, 40, 560, 47, 186, 729, 234, 67, 542, 504, 348, 181, 255, 331, 239, 708, 240, 326, 36, 745, 613, 1, 525, 219, 436, 3, 111, 212, 194, 224, 485, 699, 78, 33, 372, 235, 251, 190, 285, 342, 618] | 3 |\n",
      "| [450, 424, 271, 449, 271, 682, 3, 159, 78, 236, 573, 457, 298, 530, 96, 206, 377, 368, 473, 509, 489, 156, 311, 461, 289, 122, 722, 603, 123, 399, 414, 771, 105, 51, 711, 715, 365, 537, 616, 689, 22, 707, 464, 631, 763, 170, 510, 341, 274, 324, 160, 301, 716, 552, 87, 256, 755, 409, 20, 726, 121, 190, 607, 613, 314, 213, 245, 431, 569, 319, 659, 674, 235, 751, 250, 437, 106, 300, 582, 104] | 71 |\n",
      "| [51, 684, 562, 4, 679, 694, 483, 455, 475, 263, 4, 537, 196, 342, 396, 339, 406, 342, 440, 18, 608, 553, 797, 783, 585, 220, 44, 243, 324, 589, 20, 739, 671, 358, 90, 590, 25, 532, 300, 350, 519, 527, 455, 666, 648, 608, 538, 253, 782, 301, 418, 803, 357, 585, 693, 455, 204, 6, 397, 376, 417, 342, 653, 410, 475, 820, 184, 804, 347, 21, 60, 62, 85, 110, 789, 711, 173, 286, 61, 437, 109, 111, 189, 244, 41] | 40 |\n",
      "| [691, 737, 696, 366, 317, 576, 145, 223, 476, 150, 59, 637, 530, 196, 382, 191, 449, 73, 695, 134, 2, 864, 617, 279, 384, 552, 736, 342, 744, 762, 707, 700, 120, 85, 847, 764, 243, 496, 578, 49, 2, 747, 659, 364, 347, 840, 842, 374, 314, 865, 337, 471, 392, 626, 818, 552, 408, 599, 424, 775, 435, 183, 280, 495, 617, 848, 665, 755, 713, 448, 417, 530, 285, 706, 214, 393, 60, 750, 629, 691, 343, 632, 609, 155, 303, 678, 564, 13, 406, 456] | 12 |\n",
      "| [664, 486, 136, 513, 911, 463, 699, 737, 302, 491, 274, 195, 762, 254, 273, 642, 658, 260, 88, 337, 625, 83, 340, 646, 559, 381, 712, 38, 281, 483, 149, 598, 541, 273, 378, 389, 40, 290, 624, 684, 541, 78, 894, 7, 83, 430, 662, 17, 573, 308, 612, 422, 180, 449, 295, 778, 488, 443, 590, 576, 829, 81, 202, 85, 289, 782, 419, 389, 279, 603, 513, 853, 156, 274, 69, 591, 360, 761, 322, 258, 228, 167, 173, 877, 445, 13, 321, 401, 610, 293, 821, 624, 451, 835, 645] | 25 |\n",
      "| [162, 370, 403, 998, 893, 774, 130, 686, 707, 921, 923, 452, 814, 456, 48, 401, 215, 875, 31, 792, 742, 523, 586, 976, 876, 427, 519, 129, 115, 3, 697, 269, 175, 533, 574, 36, 615, 621, 660, 918, 349, 338, 358, 766, 571, 356, 385, 755, 910, 714, 761, 536, 142, 424, 57, 813, 590, 438, 984, 940, 921, 342, 713, 303, 338, 147, 549, 809, 685, 992, 161, 291, 982, 299, 54, 361, 881, 181, 193, 259, 273, 948, 805, 314, 733, 878, 226, 320, 346, 827, 200, 50, 849, 783, 688, 245, 955, 284, 192, 845] | 66 |\n"
     ]
    }
   ],
   "source": [
    "lists = []\n",
    "ks = []\n",
    "print('| List | k |')\n",
    "for size in list_sizes:\n",
    "    list = generate_list(Ordering.Unsorted, size)\n",
    "    lists.append(list)\n",
    "    k = generate_k(size)\n",
    "    ks.append(k)\n",
    "    print(f'| {list} | {k} |')"
   ]
  },
  {
   "cell_type": "code",
   "execution_count": 50,
   "metadata": {},
   "outputs": [
    {
     "data": {
      "text/plain": [
       "<matplotlib.legend.Legend at 0x188f0f3b980>"
      ]
     },
     "execution_count": 50,
     "metadata": {},
     "output_type": "execute_result"
    },
    {
     "data": {
      "image/png": "[encoded data removed]",
      "text/plain": [
       "<Figure size 640x480 with 1 Axes>"
      ]
     },
     "metadata": {},
     "output_type": "display_data"
    }
   ],
   "source": [
    "from merge_sort import merge_sort\n",
    "from quick_select import quick_select\n",
    "\n",
    "our_times = []\n",
    "sorted_times = []\n",
    "for i in range(len(lists)):\n",
    "    our_times.append(benchmark(quick_select, lists[i], ks[i]))\n",
    "    sorted_times.append(benchmark_sorting(merge_sort, lists[i], ks[i]))\n",
    "\n",
    "plt.plot(list_sizes, our_times, color='red', label='Quick Select')\n",
    "plt.plot(list_sizes, sorted_times, color='blue', label='Sort k - 1')\n",
    "plt.xlabel(\"List Size\", fontsize=18)\n",
    "plt.ylabel(\"Runtime\", fontsize=18)\n",
    "plt.legend()"
   ]
  }
 ],
 "metadata": {
  "kernelspec": {
   "display_name": "Python 3",
   "language": "python",
   "name": "python3"
  },
  "language_info": {
   "codemirror_mode": {
    "name": "ipython",
    "version": 3
   },
   "file_extension": ".py",
   "mimetype": "text/x-python",
   "name": "python",
   "nbconvert_exporter": "python",
   "pygments_lexer": "ipython3",
   "version": "3.12.0"
  }
 },
 "nbformat": 4,
 "nbformat_minor": 2
}
