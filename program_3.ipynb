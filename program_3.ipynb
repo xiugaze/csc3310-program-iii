{
 "cells": [
  {
   "cell_type": "markdown",
   "metadata": {},
   "source": [
    "# Program 3: Quick Select\n",
    "### Wesley Jochman, Cody Morrow, Caleb Andreano\n",
    "\n",
    "The selection problem takes a sequence of $n \\geq 2$ numbers and and integer $k$, $1 \\leq k \\leq n$ and returns the $k^{th}$ smallest element in the sequence. \n",
    "\n",
    "The problem is solved using a divide and conquer approach. For each iteration, a pivot value is chosen randomly from the target array. The array is then partitioned into three arrays based on the pivot:\n",
    "- The `left` array will contain all values strictly less than the pivot\n",
    "- The `same` array will contain all values equal to the pivot\n",
    "- The `right` array will contain all values strictly greater than the pivot. \n",
    "\n",
    "At this point, if $k$ is less than the length of the `left` array, we know that the $k^{th}$ smallest element must be in this array. In this case, we recurse using only the `left` array. \n",
    "\n",
    "If $k$ is equal to the length of the `left` array plus one, we know that the $k^{th}$ element is *not* in the left array. Since the `right` array contains every element that is strictly greater than the pivot, we now know that the $k^{th}$ smalles element is equal to the pivot. Therefore, we've found the target, so return the pivot. \n",
    "\n",
    "Otherwise, we know that the $k^{th}$ smalles element *must* be in the right array. We recurse on the right array, decementing $k$ by the length of the left arrayn as well as decementing $k$ by the number of values found that are identical to the pivots, or the length of the `same` array. \n",
    "\n",
    "In pseudocode, \n",
    "```\n",
    "function quick_select(A, k):\n",
    "    pivot = A[random(0, len(A))]\n",
    "\n",
    "    left, same, right = partition(A, pivot)\n",
    "\n",
    "    if k <= len(left):\n",
    "        return quick_select(left, k)\n",
    "    else if k == len(left) + 1:\n",
    "        return pivot\n",
    "    else:\n",
    "        return quick_select(right, k - len(left) - len(same))\n",
    "\n",
    "function partition(A, pivot):\n",
    "    left, same, right = [], [], []\n",
    "    for n in A:\n",
    "        if n < pivot:\n",
    "            left += n\n",
    "        else if n < pivot:\n",
    "            right += n\n",
    "        else \n",
    "            same += n\n",
    "    \n",
    "    return (left, same, right)\n",
    "```"
   ]
  }
 ],
 "metadata": {
  "language_info": {
   "name": "python"
  }
 },
 "nbformat": 4,
 "nbformat_minor": 2
}
